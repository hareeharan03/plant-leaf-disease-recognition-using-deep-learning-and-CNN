{
 "cells": [
  {
   "cell_type": "markdown",
   "metadata": {},
   "source": [
    "# Detection of Plant leaf disease:"
   ]
  },
  {
   "cell_type": "code",
   "execution_count": 1,
   "metadata": {},
   "outputs": [],
   "source": [
    "from tensorflow.keras.callbacks import ModelCheckpoint, ReduceLROnPlateau, EarlyStopping"
   ]
  },
  {
   "cell_type": "code",
   "execution_count": 2,
   "metadata": {},
   "outputs": [],
   "source": [
    "from tensorflow.keras.models import Sequential"
   ]
  },
  {
   "cell_type": "code",
   "execution_count": 3,
   "metadata": {},
   "outputs": [],
   "source": [
    "from tensorflow.keras.layers import Convolution2D"
   ]
  },
  {
   "cell_type": "code",
   "execution_count": 4,
   "metadata": {},
   "outputs": [],
   "source": [
    "from tensorflow.keras.layers import MaxPooling2D"
   ]
  },
  {
   "cell_type": "code",
   "execution_count": 5,
   "metadata": {},
   "outputs": [],
   "source": [
    "from tensorflow.keras.layers import Flatten"
   ]
  },
  {
   "cell_type": "code",
   "execution_count": 6,
   "metadata": {},
   "outputs": [],
   "source": [
    "from tensorflow.keras.layers import Dense"
   ]
  },
  {
   "cell_type": "code",
   "execution_count": 7,
   "metadata": {},
   "outputs": [],
   "source": [
    "import warnings\n",
    "warnings.filterwarnings('ignore')"
   ]
  },
  {
   "cell_type": "code",
   "execution_count": 8,
   "metadata": {},
   "outputs": [],
   "source": [
    "Classifier=Sequential()"
   ]
  },
  {
   "cell_type": "code",
   "execution_count": 9,
   "metadata": {},
   "outputs": [],
   "source": [
    "Classifier.add(Convolution2D(32,(3,3),input_shape=(128,128,3),activation='relu'))\n",
    "Classifier.add(MaxPooling2D(pool_size=(2,2)))"
   ]
  },
  {
   "cell_type": "code",
   "execution_count": 10,
   "metadata": {},
   "outputs": [],
   "source": [
    "Classifier.add(Flatten())\n",
    "Classifier.add(Dense(38, activation='relu'))"
   ]
  },
  {
   "cell_type": "code",
   "execution_count": 11,
   "metadata": {},
   "outputs": [
    {
     "name": "stdout",
     "output_type": "stream",
     "text": [
      "Model: \"sequential\"\n",
      "_________________________________________________________________\n",
      "Layer (type)                 Output Shape              Param #   \n",
      "=================================================================\n",
      "conv2d (Conv2D)              (None, 126, 126, 32)      896       \n",
      "_________________________________________________________________\n",
      "max_pooling2d (MaxPooling2D) (None, 63, 63, 32)        0         \n",
      "_________________________________________________________________\n",
      "flatten (Flatten)            (None, 127008)            0         \n",
      "_________________________________________________________________\n",
      "dense (Dense)                (None, 38)                4826342   \n",
      "_________________________________________________________________\n",
      "dense_1 (Dense)              (None, 38)                1482      \n",
      "=================================================================\n",
      "Total params: 4,828,720\n",
      "Trainable params: 4,828,720\n",
      "Non-trainable params: 0\n",
      "_________________________________________________________________\n"
     ]
    }
   ],
   "source": [
    "\n",
    "Classifier.add(Dense(38, activation='softmax'))\n",
    "\n",
    "Classifier.compile(optimizer='rmsprop',loss='categorical_crossentropy',metrics=['accuracy'])\n",
    "Classifier.summary()"
   ]
  },
  {
   "cell_type": "code",
   "execution_count": 12,
   "metadata": {},
   "outputs": [],
   "source": [
    "from tensorflow.keras.preprocessing.image import ImageDataGenerator"
   ]
  },
  {
   "cell_type": "code",
   "execution_count": 13,
   "metadata": {},
   "outputs": [],
   "source": [
    "train_datagen=ImageDataGenerator(rescale=1./255,shear_range=0.2,zoom_range=0.2,horizontal_flip=True)"
   ]
  },
  {
   "cell_type": "code",
   "execution_count": 14,
   "metadata": {},
   "outputs": [],
   "source": [
    "test_datagen=ImageDataGenerator(rescale=1./255)"
   ]
  },
  {
   "cell_type": "code",
   "execution_count": 15,
   "metadata": {},
   "outputs": [
    {
     "name": "stdout",
     "output_type": "stream",
     "text": [
      "Found 12899 images belonging to 38 classes.\n"
     ]
    }
   ],
   "source": [
    "training_set=train_datagen.flow_from_directory('data/train',target_size=(128,128),batch_size=32,class_mode='categorical')"
   ]
  },
  {
   "cell_type": "code",
   "execution_count": 16,
   "metadata": {},
   "outputs": [
    {
     "name": "stdout",
     "output_type": "stream",
     "text": [
      "Found 6111 images belonging to 38 classes.\n"
     ]
    }
   ],
   "source": [
    "test_set=test_datagen.flow_from_directory('data/valid',target_size=(128,128),batch_size=32,class_mode='categorical')"
   ]
  },
  {
   "cell_type": "code",
   "execution_count": 17,
   "metadata": {},
   "outputs": [],
   "source": [
    "from IPython.display import display"
   ]
  },
  {
   "cell_type": "code",
   "execution_count": null,
   "metadata": {},
   "outputs": [
    {
     "name": "stdout",
     "output_type": "stream",
     "text": [
      "WARNING:tensorflow:From <ipython-input-18-626cc01a1edf>:1: Model.fit_generator (from tensorflow.python.keras.engine.training) is deprecated and will be removed in a future version.\n",
      "Instructions for updating:\n",
      "Please use Model.fit, which supports generators.\n",
      "WARNING:tensorflow:sample_weight modes were coerced from\n",
      "  ...\n",
      "    to  \n",
      "  ['...']\n",
      "WARNING:tensorflow:sample_weight modes were coerced from\n",
      "  ...\n",
      "    to  \n",
      "  ['...']\n",
      "Train for 1000 steps, validate for 100 steps\n",
      "  46/1000 [>.............................] - ETA: 19:26 - loss: 5.6543 - accuracy: 0.0496"
     ]
    }
   ],
   "source": [
    "Classifier.fit_generator(training_set,steps_per_epoch=1000,epochs=1,validation_data=test_set,validation_steps=100)"
   ]
  },
  {
   "cell_type": "code",
   "execution_count": null,
   "metadata": {},
   "outputs": [],
   "source": [
    "import numpy as np"
   ]
  },
  {
   "cell_type": "code",
   "execution_count": 20,
   "metadata": {},
   "outputs": [],
   "source": [
    "from tensorflow.keras.preprocessing import image\n",
    "test_image=image.load_img('test/t_s.JPG',target_size=(128,128))"
   ]
  },
  {
   "cell_type": "code",
   "execution_count": 21,
   "metadata": {},
   "outputs": [],
   "source": [
    "import matplotlib.pyplot as plt\n",
    "img = plt.imshow(test_image)"
   ]
  },
  {
   "cell_type": "code",
   "execution_count": 22,
   "metadata": {},
   "outputs": [],
   "source": [
    "test_image=image.img_to_array(test_image)"
   ]
  },
  {
   "cell_type": "code",
   "execution_count": 23,
   "metadata": {},
   "outputs": [],
   "source": [
    "test_image=np.expand_dims(test_image,axis=0)"
   ]
  },
  {
   "cell_type": "code",
   "execution_count": 24,
   "metadata": {},
   "outputs": [],
   "source": [
    "result=Classifier.predict(test_image)"
   ]
  },
  {
   "cell_type": "code",
   "execution_count": 25,
   "metadata": {},
   "outputs": [],
   "source": [
    "prediction = result[0]"
   ]
  },
  {
   "cell_type": "code",
   "execution_count": 26,
   "metadata": {},
   "outputs": [],
   "source": [
    "classes=training_set.class_indices"
   ]
  },
  {
   "cell_type": "code",
   "execution_count": 27,
   "metadata": {},
   "outputs": [
    {
     "data": {
      "text/plain": [
       "{'Apple___Apple_scab': 0,\n",
       " 'Apple___Black_rot': 1,\n",
       " 'Apple___Cedar_apple_rust': 2,\n",
       " 'Apple___healthy': 3,\n",
       " 'Blueberry___healthy': 4,\n",
       " 'Cherry_(including_sour)___Powdery_mildew': 5,\n",
       " 'Cherry_(including_sour)___healthy': 6,\n",
       " 'Corn_(maize)___Cercospora_leaf_spot Gray_leaf_spot': 7,\n",
       " 'Corn_(maize)___Common_rust_': 8,\n",
       " 'Corn_(maize)___Northern_Leaf_Blight': 9,\n",
       " 'Corn_(maize)___healthy': 10,\n",
       " 'Grape___Black_rot': 11,\n",
       " 'Grape___Esca_(Black_Measles)': 12,\n",
       " 'Grape___Leaf_blight_(Isariopsis_Leaf_Spot)': 13,\n",
       " 'Grape___healthy': 14,\n",
       " 'Orange___Haunglongbing_(Citrus_greening)': 15,\n",
       " 'Peach___Bacterial_spot': 16,\n",
       " 'Peach___healthy': 17,\n",
       " 'Pepper,_bell___Bacterial_spot': 18,\n",
       " 'Pepper,_bell___healthy': 19,\n",
       " 'Potato___Early_blight': 20,\n",
       " 'Potato___Late_blight': 21,\n",
       " 'Potato___healthy': 22,\n",
       " 'Raspberry___healthy': 23,\n",
       " 'Soybean___healthy': 24,\n",
       " 'Squash___Powdery_mildew': 25,\n",
       " 'Strawberry___Leaf_scorch': 26,\n",
       " 'Strawberry___healthy': 27,\n",
       " 'Tomato___Bacterial_spot': 28,\n",
       " 'Tomato___Early_blight': 29,\n",
       " 'Tomato___Late_blight': 30,\n",
       " 'Tomato___Leaf_Mold': 31,\n",
       " 'Tomato___Septoria_leaf_spot': 32,\n",
       " 'Tomato___Spider_mites Two-spotted_spider_mite': 33,\n",
       " 'Tomato___Target_Spot': 34,\n",
       " 'Tomato___Tomato_Yellow_Leaf_Curl_Virus': 35,\n",
       " 'Tomato___Tomato_mosaic_virus': 36,\n",
       " 'Tomato___healthy': 37}"
      ]
     },
     "execution_count": 27,
     "metadata": {},
     "output_type": "execute_result"
    }
   ],
   "source": [
    "classes"
   ]
  },
  {
   "cell_type": "code",
   "execution_count": 28,
   "metadata": {},
   "outputs": [],
   "source": [
    "prediction=list(prediction)"
   ]
  },
  {
   "cell_type": "code",
   "execution_count": 29,
   "metadata": {},
   "outputs": [
    {
     "data": {
      "text/plain": [
       "[0.0,\n",
       " 0.0,\n",
       " 0.0,\n",
       " 0.0,\n",
       " 0.0,\n",
       " 0.0,\n",
       " 0.0,\n",
       " 0.0,\n",
       " 0.0,\n",
       " 0.0,\n",
       " 0.0,\n",
       " 0.0,\n",
       " 0.0,\n",
       " 0.0,\n",
       " 0.0,\n",
       " 0.0,\n",
       " 0.0,\n",
       " 0.0,\n",
       " 0.0,\n",
       " 0.0,\n",
       " 0.0,\n",
       " 0.0,\n",
       " 0.0,\n",
       " 0.0,\n",
       " 0.0,\n",
       " 0.0,\n",
       " 0.0,\n",
       " 0.0,\n",
       " 0.0,\n",
       " 0.0,\n",
       " 0.0,\n",
       " 0.0,\n",
       " 1.0,\n",
       " 0.0,\n",
       " 0.0,\n",
       " 0.0,\n",
       " 0.0,\n",
       " 0.0]"
      ]
     },
     "execution_count": 29,
     "metadata": {},
     "output_type": "execute_result"
    }
   ],
   "source": [
    "prediction"
   ]
  },
  {
   "cell_type": "code",
   "execution_count": 30,
   "metadata": {},
   "outputs": [],
   "source": [
    "classes=['Apple___Apple_scab','Apple___Black_rot','Apple___Cedar_apple_rust','Apple___healthy','Blueberry___healthy',\n",
    "'Cherry_(including_sour)___Powdery_mildew','Cherry_(including_sour)___healthy',\n",
    "'Corn_(maize)___Cercospora_leaf_spot Gray_leaf_spot','Corn_(maize)___Common_rust_','Corn_(maize)___Northern_Leaf_Blight',\n",
    "'Corn_(maize)___healthy','Grape___Black_rot','Grape___Esca_(Black_Measles)','Grape___Leaf_blight_(Isariopsis_Leaf_Spot)',\n",
    "'Grape___healthy','Orange___Haunglongbing_(Citrus_greening)','Peach___Bacterial_spot','Peach___healthy',\n",
    "'Pepper,_bell___Bacterial_spot','Pepper,_bell___healthy','Potato___Early_blight','Potato___Late_blight','Potato___healthy',\n",
    "'Raspberry___healthy','Soybean___healthy','Squash___Powdery_mildew','Strawberry___Leaf_scorch',\n",
    "'Strawberry___healthy','Tomato___Bacterial_spot','Tomato___Early_blight','Tomato___Late_blight','Tomato___Leaf_Mold',\n",
    "'Tomato___Septoria_leaf_spot','Tomato___Spider_mites Two-spotted_spider_mite',\n",
    "'Tomato___Target_Spot','Tomato___Tomato_Yellow_Leaf_Curl_Virus','Tomato___Tomato_mosaic_virus','Tomato___healthy']"
   ]
  },
  {
   "cell_type": "code",
   "execution_count": 31,
   "metadata": {},
   "outputs": [],
   "source": [
    "output=zip(classes,prediction)"
   ]
  },
  {
   "cell_type": "code",
   "execution_count": 32,
   "metadata": {},
   "outputs": [],
   "source": [
    "output=dict(output)"
   ]
  },
  {
   "cell_type": "code",
   "execution_count": 33,
   "metadata": {},
   "outputs": [
    {
     "data": {
      "text/plain": [
       "{'Apple___Apple_scab': 0.0,\n",
       " 'Apple___Black_rot': 0.0,\n",
       " 'Apple___Cedar_apple_rust': 0.0,\n",
       " 'Apple___healthy': 0.0,\n",
       " 'Blueberry___healthy': 0.0,\n",
       " 'Cherry_(including_sour)___Powdery_mildew': 0.0,\n",
       " 'Cherry_(including_sour)___healthy': 0.0,\n",
       " 'Corn_(maize)___Cercospora_leaf_spot Gray_leaf_spot': 0.0,\n",
       " 'Corn_(maize)___Common_rust_': 0.0,\n",
       " 'Corn_(maize)___Northern_Leaf_Blight': 0.0,\n",
       " 'Corn_(maize)___healthy': 0.0,\n",
       " 'Grape___Black_rot': 0.0,\n",
       " 'Grape___Esca_(Black_Measles)': 0.0,\n",
       " 'Grape___Leaf_blight_(Isariopsis_Leaf_Spot)': 0.0,\n",
       " 'Grape___healthy': 0.0,\n",
       " 'Orange___Haunglongbing_(Citrus_greening)': 0.0,\n",
       " 'Peach___Bacterial_spot': 0.0,\n",
       " 'Peach___healthy': 0.0,\n",
       " 'Pepper,_bell___Bacterial_spot': 0.0,\n",
       " 'Pepper,_bell___healthy': 0.0,\n",
       " 'Potato___Early_blight': 0.0,\n",
       " 'Potato___Late_blight': 0.0,\n",
       " 'Potato___healthy': 0.0,\n",
       " 'Raspberry___healthy': 0.0,\n",
       " 'Soybean___healthy': 0.0,\n",
       " 'Squash___Powdery_mildew': 0.0,\n",
       " 'Strawberry___Leaf_scorch': 0.0,\n",
       " 'Strawberry___healthy': 0.0,\n",
       " 'Tomato___Bacterial_spot': 0.0,\n",
       " 'Tomato___Early_blight': 0.0,\n",
       " 'Tomato___Late_blight': 0.0,\n",
       " 'Tomato___Leaf_Mold': 0.0,\n",
       " 'Tomato___Septoria_leaf_spot': 1.0,\n",
       " 'Tomato___Spider_mites Two-spotted_spider_mite': 0.0,\n",
       " 'Tomato___Target_Spot': 0.0,\n",
       " 'Tomato___Tomato_Yellow_Leaf_Curl_Virus': 0.0,\n",
       " 'Tomato___Tomato_mosaic_virus': 0.0,\n",
       " 'Tomato___healthy': 0.0}"
      ]
     },
     "execution_count": 33,
     "metadata": {},
     "output_type": "execute_result"
    }
   ],
   "source": [
    "output"
   ]
  },
  {
   "cell_type": "code",
   "execution_count": 34,
   "metadata": {},
   "outputs": [
    {
     "name": "stdout",
     "output_type": "stream",
     "text": [
      "Tomato_Septoria_leaf_spot\n"
     ]
    }
   ],
   "source": [
    "if output['Apple___Apple_scab']==1.0 :\n",
    "    print(\"Apple_scab\")\n",
    "elif output['Apple___Black_rot']==1.0:\n",
    "    print(\"Apple_Black_rot\")\n",
    "elif output['Apple___Cedar_apple_rust']==1.0:\n",
    "    print(\"Apple_Cedar_rust\")\n",
    "elif output['Apple___healthy']==1.0:\n",
    "    print(\"Apple_healthy\")\n",
    "elif output['Blueberry___healthy']==1.0:\n",
    "    print('Blueberry_healthy')\n",
    "elif output['Cherry_(including_sour)___Powdery_mildew']==1.0:\n",
    "    print(\"Cherry_(including_sour)_Powdery_mildew\")\n",
    "elif output['Cherry_(including_sour)___healthy']==1.0:\n",
    "    print('Cherry_(including_sour)__healthy')\n",
    "elif output['Corn_(maize)___Cercospora_leaf_spot Gray_leaf_spot']==1.0:\n",
    "    print('Corn_(maize)_Cercospora_leaf_spot Gray_leaf_spot')\n",
    "elif output['Corn_(maize)___Common_rust_']==1.0:\n",
    "    print(\"Corn_(maize)___Common_rust\")\n",
    "elif output['Corn_(maize)___Northern_Leaf_Blight']==1.0:\n",
    "    print(\"Corn_(maize)_Northern_Leaf_Blight\")\n",
    "elif output['Corn_(maize)___healthy']==1.0:\n",
    "    print(\"Corn_(maize)_healthy\")\n",
    "elif output['Grape___Black_rot']==1.0:\n",
    "    print(\"Grape_Black_rot\")\n",
    "elif output['Grape___Esca_(Black_Measles)']==1.0:\n",
    "    print(\"Grape_Esca_(Black_Measles)\")\n",
    "elif output['Grape___Leaf_blight_(Isariopsis_Leaf_Spot)']==1.0:\n",
    "    print(\"Grape_Leaf_blight_(Isariopsis_Leaf_Spot)\")\n",
    "elif output['Grape___healthy']==1.0:\n",
    "    print(\"Grape_healthy\")\n",
    "elif output['Orange___Haunglongbing_(Citrus_greening)']==1.0:\n",
    "    print(\"Orange_Haunglongbing_(Citrus_greening)\")\n",
    "elif output['Peach___Bacterial_spot']==1.0:\n",
    "    print(\"Peach_Bacterial_spot\")\n",
    "elif output['Peach___healthy']==1.0:\n",
    "    print(\"Peach_healthy\")\n",
    "elif output['Pepper,_bell___Bacterial_spot']==1.0:\n",
    "    print(\"Pepper_bell_Bacterial_spot\")\n",
    "elif output['Pepper,_bell___healthy']==1.0:\n",
    "    print(\"Pepper_bell_healthy\")\n",
    "elif output['Potato___Early_blight']==1.0:\n",
    "    print('Potato_Early_blight')\n",
    "elif output['Potato___Late_blight']==1.0:\n",
    "    print(\"Potato_Late_blight\")\n",
    "elif output['Potato___healthy']==1.0:\n",
    "    print('Potato_healthy')\n",
    "elif output['Raspberry___healthy']==1.0:\n",
    "    print('Raspberry_healthy')\n",
    "elif output['Soybean___healthy']==1.0:\n",
    "    print(\"Soybean_healthy\")\n",
    "elif output['Squash___Powdery_mildew']==1.0:\n",
    "    print(\"Squash_Powdery_mildew\")\n",
    "elif output['Strawberry___Leaf_scorch']==1.0:\n",
    "    print(\"Strawberry_Leaf_scorch\")\n",
    "elif output['Strawberry___healthy']==1.0:\n",
    "    print(\"Strawberry_healthy\")\n",
    "elif output['Tomato___Bacterial_spot']==1.0:\n",
    "    print(\"Tomato_Bacterial_spot\")\n",
    "elif output['Tomato___Early_blight']==1.0:\n",
    "    print(\"Tomato_Early_blight\")\n",
    "elif output['Tomato___Late_blight']==1.0:\n",
    "    print(\"Tomato_Late_blight\")\n",
    "elif output['Tomato___Leaf_Mold']==1.0:\n",
    "    print(\"Tomato_Leaf_Mold\")\n",
    "elif output['Tomato___Septoria_leaf_spot']==1.0:\n",
    "    print(\"Tomato_Septoria_leaf_spot\")\n",
    "elif output['Tomato___Spider_mites Two-spotted_spider_mite']==1.0:\n",
    "    print(\"Tomato_Spider_mites_Two-spotted_spider_mite\")\n",
    "elif output['Tomato___Target_Spot']==1.0:\n",
    "    print(\"Tomato_Target_Spot\")\n",
    "elif output['Tomato___Tomato_Yellow_Leaf_Curl_Virus']==1.0:\n",
    "    print(\"Tomato_Tomato_Yellow_Leaf_Curl_Virus\")\n",
    "elif output['Tomato___Tomato_mosaic_virus']==1.0:\n",
    "    print('Tomato_Tomato_mosaic_virus')\n",
    "elif output['Tomato___healthy']==1.0:\n",
    "    print(\"Tomato_healthy\")"
   ]
  },
  {
   "cell_type": "code",
   "execution_count": null,
   "metadata": {},
   "outputs": [],
   "source": []
  },
  {
   "cell_type": "code",
   "execution_count": null,
   "metadata": {},
   "outputs": [],
   "source": []
  },
  {
   "cell_type": "code",
   "execution_count": null,
   "metadata": {},
   "outputs": [],
   "source": []
  }
 ],
 "metadata": {
  "kernelspec": {
   "display_name": "Python 3",
   "language": "python",
   "name": "python3"
  },
  "language_info": {
   "codemirror_mode": {
    "name": "ipython",
    "version": 3
   },
   "file_extension": ".py",
   "mimetype": "text/x-python",
   "name": "python",
   "nbconvert_exporter": "python",
   "pygments_lexer": "ipython3",
   "version": "3.7.4"
  }
 },
 "nbformat": 4,
 "nbformat_minor": 2
}
